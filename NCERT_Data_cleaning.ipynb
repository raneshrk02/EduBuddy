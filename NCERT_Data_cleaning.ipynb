{
 "cells": [
  {
   "cell_type": "markdown",
   "metadata": {
    "id": "JUlJDJadTgZG"
   },
   "source": [
    "#Imports"
   ]
  },
  {
   "cell_type": "code",
   "execution_count": 1,
   "metadata": {
    "executionInfo": {
     "elapsed": 16,
     "status": "ok",
     "timestamp": 1745657427170,
     "user": {
      "displayName": "Ranesh RK",
      "userId": "14186686225582722838"
     },
     "user_tz": -330
    },
    "id": "I2kZSyugSir0"
   },
   "outputs": [],
   "source": [
    "import re\n",
    "import json"
   ]
  },
  {
   "cell_type": "markdown",
   "metadata": {
    "id": "BzJ5Z5K7Th3d"
   },
   "source": [
    "#Read raw data jsonl file"
   ]
  },
  {
   "cell_type": "code",
   "execution_count": 2,
   "metadata": {
    "executionInfo": {
     "elapsed": 708,
     "status": "ok",
     "timestamp": 1745657572515,
     "user": {
      "displayName": "Ranesh RK",
      "userId": "14186686225582722838"
     },
     "user_tz": -330
    },
    "id": "Sl70iMpbTKN8"
   },
   "outputs": [],
   "source": [
    "raw_texts = []\n",
    "with open('/content/drive/MyDrive/ncert_books_for_gpt2.jsonl', 'r', encoding='utf-8') as f:\n",
    "    for line in f:\n",
    "        data = json.loads(line)\n",
    "        raw_texts.append(data['text'])"
   ]
  },
  {
   "cell_type": "code",
   "execution_count": 8,
   "metadata": {
    "colab": {
     "base_uri": "https://localhost:8080/",
     "height": 140
    },
    "executionInfo": {
     "elapsed": 55,
     "status": "ok",
     "timestamp": 1745657696931,
     "user": {
      "displayName": "Ranesh RK",
      "userId": "14186686225582722838"
     },
     "user_tz": -330
    },
    "id": "PArn2krFTmAm",
    "outputId": "39294ffc-0d29-46fc-8db3-2763c812295e"
   },
   "outputs": [
    {
     "data": {
      "application/vnd.google.colaboratory.intrinsic+json": {
       "type": "string"
      },
      "text/plain": [
       "'Unit 1\\nMy Family and Me\\nChapter 1\\nTwo Little Hands Let us sing\\nTwo little hands\\ngo clap, clap, clap.\\nTwo little legs\\ngo tap, tap, tap.\\nTwo little eyes\\nare open wide.\\nOne little head\\ngoes side to side.\\nReprint 2025-26\\nChapter 1.indd 1 11-01-2024 04:14:39\\nTwo little eyes to look around.\\nTwo little ears to hear any sound.\\nOne little nose to smell and breathe.\\nOne little mouth that likes to eat.\\nHands to clap, legs to walk\\nNose to smell, mouth to talk\\nHead to move, eyes to see\\nI have a little body that belongs to me.\\nSight words\\n| one | to\\nNew words\\nh•a n Nd o|w l ecgir |cl eh e‘Oadn e|, tewyeo ,| t oe’a irn | t hneo sseo n|g m. outh\\nNote to the teacher\\n• Use different combinations and variations for the activity. For\\ninstance, while reciting the poem, you may say ‘two little hands\\ngo...’ and remain silent while continuing to clap.\\n• Write sight words and new words on the board.\\n2 Mridang\\nReprint 2025-26\\nCChhaapptteerr 11..iinndddd 22 1188--0055--22002233 1144::3399::5511\\nParts of the Body\\nHead, shoulders, knees and toes\\nHead, shoulders, knees and toes\\nAnd eyes and ears\\nAnd mouth and nose\\nHead, shoulders, knees and toes\\nNote to the teacher\\n• As children sing, they touch the part of the body referred to.\\n• This song may be repeated till the child learns the part of the\\nbody.\\n• New ways of reciting could be thought of by the teacher.\\nMridang 3\\nReprint 2025-26\\nCChhaapptteerr 11..iinndddd 33 1188--0055--22002233 1144::3399::5522\\nLet us speak\\nA. Repeat after the teacher\\nTeacher: I clap with my hands.\\nChildren: I ...\\nI tap with my feet.\\nI look with my eyes.\\nI walk with my legs.\\n4 Mridang\\nReprint 2025-26\\nCChhaapptteerr 11..iinndddd 44 1188--0055--22002233 1144::3399::5533\\nB. Talk in pairs\\nAsk your partner questions such as the ones below.\\nNitin: What is this?\\nNeha: This is my nose.\\nNeha: What are these?\\nNitin: These are my shoulders.\\nNitin: What is this?\\nNeha: This is my mouth.\\nNeha: What are these?\\nNitin: These are my ears.\\nNitin: What is this?\\nNeha: This is my mouth.\\nNeha: What are these?\\nNitin: These are my hands.\\nNitin: What are these?\\nNeha: These are my legs.\\nNote to the teacher\\n• Teacher demonstrates the actions and says the sentence, and\\nchildren repeat after her. Then each child says one sentence in\\nsequence, till every child in the class gets a chance to speak.\\nMridang 5\\nReprint 2025-26\\nCChhaapptteerr 11..iinndddd 55 1188--0055--22002233 1144::3399::5533\\nMatch the parts of the body with their pictures.\\nHead\\nNose\\nEye\\nEar\\nCheek\\nHand\\nTongue\\nArm\\nMouth\\nFoot\\nLeg\\nNote to the teacher\\n• Using the picture, say aloud the parts of the body pointing to\\neach one.\\n• As children repeat after you, let them also point to the\\ncorresponding body part.\\n6 Mridang\\nReprint 2025-26\\nCChhaapptteerr 11..iinndddd 66 1188--0055--22002233 1144::3399::5544\\nLet us read\\nLook at the pictures. Read the word, then read the\\nsentence.\\nI see with my eyes.\\nEyes\\nI hear with my ears.\\nEars\\nI smell with my nose.\\nNose\\nI eat with my mouth.\\nMouth\\nI feel with my skin.\\nSkin\\nMridang 7\\nReprint 2025-26\\nCChhaapptteerr 11..iinndddd 77 1188--0055--22002233 1144::3399::5544\\nLet us do\\nMy Hand\\nPlace one palm in the centre of the box given below. With your other\\nhand, draw an outline. Decorate the hand with colours, coloured\\npaper bits, bindis or anything else.\\nNow compare your drawing with your friend’s drawing.\\n8 Mridang\\nReprint 2025-26\\nChapter 1.indd 8 11-01-2024 04:15:14\\nLet us do\\nWashing Hands\\n1. Open the tap or pour 2. Rub soap on your\\nwater on your hands. hands.\\n3. Wash between the 4. Rinse your hands again.\\nfingers.\\nNote to the teacher\\n• Let the students listen to the instructions one by one and do\\naccordingly.\\nMridang 9\\nReprint 2025-26\\nChapter 1.indd 9 11-01-2024 04:15:15\\nLet us sing\\nAlphabet song\\nA B C D E F G H I J K L M N O P\\nL M N O P Q R S T U V W X Y Z\\nX Y Z, Sugar on bread\\nNext day morning, come to me\\nWe will learn the A B C...\\nHappy, happy we shall be\\nWhen we know the A B C....\\nLet us write\\nA. Write the letters\\nA B\\na\\nC D\\nc\\nE F\\ne\\nNote to the teacher\\n• Before the above exercise, make letter flash cards to indicate\\ndirections when tracing the letters.\\n• Provide extra practice if necessary.\\n10 Mridang\\nReprint 2025-26\\nCChhaapptteerr 11..iinndddd 1100 1188--0055--22002233 1144::3399::5577\\nLet us sing\\nA. Sing the alphabet (phonics) song for these letters\\nbefore you start reading the words.\\nYou may sing it in this way:\\na is for ant .... a.... a.... ant\\nb is for bag .... b.... b.... bag\\nc is for cat .... c.... c.... cat\\nd is for dog .... d.... d.... dog\\ne is for egg .... e.... e.... egg\\nf is for fish .... f.... f.... fish\\ng is for goat .... g.... g.... goat\\nh is for hut .... h.... h.... hut\\ni is for ice-cube .... i.... i.... ice-cube\\nj is for jug .... j.... j... jug\\nk is for kite .... k.... k.... kite\\nl is for lion .... l.... l.... lion\\nm is for mango .... m.... m.... mango\\nMridang 11\\nReprint 2025-26\\nCChhaapptteerr 11..iinndddd 1111 1199--0055--22002233 1100::0055::1144\\nn is for nose .... n.... n.... nose\\no is for orange .... o.... o.... orange\\np is for parrot .... p.... p.... parrot\\nq is for quilt .... q.... q.... quilt\\nr is for rat .... r.... r.... rat\\ns is for sun .... s.... s.... sun\\nt is for table .... t.... t.... table\\nu is for umbrella .... u.... u.... umbrella\\nv is for van .... v.... v.... van\\nw is for well .... w.... w.... well\\nx is for x-ray .... x.... x.... x-ray\\ny is for yarn .... y.... y.... yarn\\nz is for zebra .... z.... z.... zebra\\nNote to the teacher\\n• Draw attention of the children to the initial sound of each word.\\nHelp each child say the word aloud focusing on the initial sound.\\n12 Mridang\\nReprint 2025-26\\nCChhaapptteerr 11..iinndddd 1122 1188--0055--22002233 1144::4400::0088\\nLet us speak\\nLetter sounds\\na b c d e\\naxe bag cart den egg\\nant bee cap door ear\\narm boy cat dog elephant\\nNote to the teacher\\n• Draw attention of the children to the initial sound of each word\\ngiven above.\\n• Help them say the words aloud focusing on the initial sound.\\nMridang 13\\nReprint 2025-26\\nCChhaapptteerr 11..iinndddd 1133 1188--0055--22002233 1144::4400::0099\\nNotice the initial sounds of the words in each row. Find\\nthe odd one out.\\n1\\nbag cap balloon\\n2\\napple ant clock\\n3\\negg dog drum\\nNote to the teacher\\n• Provide regular and frequent practice of the above exercise.\\n14 Mridang\\nReprint 2025-26\\nCChhaapptteerr 11..iinndddd 1144 1188--0055--22002233 1144::4400::1100'"
      ]
     },
     "execution_count": 8,
     "metadata": {},
     "output_type": "execute_result"
    }
   ],
   "source": [
    "raw_texts[0]"
   ]
  },
  {
   "cell_type": "markdown",
   "metadata": {
    "id": "RI898y7dTq3O"
   },
   "source": [
    "#Clean Data"
   ]
  },
  {
   "cell_type": "code",
   "execution_count": null,
   "metadata": {
    "executionInfo": {
     "elapsed": 43,
     "status": "ok",
     "timestamp": 1745657583269,
     "user": {
      "displayName": "Ranesh RK",
      "userId": "14186686225582722838"
     },
     "user_tz": -330
    },
    "id": "fZ35y_anTNCU"
   },
   "outputs": [],
   "source": [
    "def clean_text(text):\n",
    "    text = re.sub(r'Chapter\\s+\\d+\\.indd\\s+\\d+', '', text)\n",
    "    text = re.sub(r'Reprint\\s+\\d{4}-\\d{2}', '', text)\n",
    "    text = re.sub(r'\\n+', '\\n', text)\n",
    "    return text.strip()"
   ]
  },
  {
   "cell_type": "code",
   "execution_count": 4,
   "metadata": {
    "executionInfo": {
     "elapsed": 4,
     "status": "ok",
     "timestamp": 1745657592201,
     "user": {
      "displayName": "Ranesh RK",
      "userId": "14186686225582722838"
     },
     "user_tz": -330
    },
    "id": "XYLhrG-TTPN6"
   },
   "outputs": [],
   "source": [
    "def split_into_blocks(text):\n",
    "    blocks = []\n",
    "    current_block = \"\"\n",
    "    for line in text.splitlines():\n",
    "        line = line.strip()\n",
    "        if not line:\n",
    "            continue\n",
    "        if line.isupper() or re.match(r'^\\d+\\.\\s+', line):\n",
    "            if current_block:\n",
    "                blocks.append(current_block.strip())\n",
    "            current_block = line\n",
    "        else:\n",
    "            current_block += \" \" + line\n",
    "    if current_block:\n",
    "        blocks.append(current_block.strip())\n",
    "    return blocks"
   ]
  },
  {
   "cell_type": "code",
   "execution_count": 5,
   "metadata": {
    "executionInfo": {
     "elapsed": 840,
     "status": "ok",
     "timestamp": 1745657608287,
     "user": {
      "displayName": "Ranesh RK",
      "userId": "14186686225582722838"
     },
     "user_tz": -330
    },
    "id": "KIjTdEkkTQxS"
   },
   "outputs": [],
   "source": [
    "all_blocks = []\n",
    "for text in raw_texts:\n",
    "    cleaned = clean_text(text)\n",
    "    blocks = split_into_blocks(cleaned)\n",
    "    all_blocks.extend(blocks)"
   ]
  },
  {
   "cell_type": "markdown",
   "metadata": {
    "id": "BjHp9Sd7Tt4S"
   },
   "source": [
    "#Save new jsonl file"
   ]
  },
  {
   "cell_type": "code",
   "execution_count": 6,
   "metadata": {
    "colab": {
     "base_uri": "https://localhost:8080/"
    },
    "executionInfo": {
     "elapsed": 376,
     "status": "ok",
     "timestamp": 1745657613646,
     "user": {
      "displayName": "Ranesh RK",
      "userId": "14186686225582722838"
     },
     "user_tz": -330
    },
    "id": "6qfogpjASnNr",
    "outputId": "a8df9e7d-4bfe-4baf-a651-9aa7745f8c8f"
   },
   "outputs": [
    {
     "name": "stdout",
     "output_type": "stream",
     "text": [
      "Processed 27687 entries and saved to finetune_data.jsonl.\n"
     ]
    }
   ],
   "source": [
    "with open('finetune_data.jsonl', 'w', encoding='utf-8') as f:\n",
    "    for block in all_blocks:\n",
    "        entry = {\n",
    "            \"prompt\": \"Study Material:\",\n",
    "            \"completion\": block\n",
    "        }\n",
    "        f.write(json.dumps(entry, ensure_ascii=False) + '\\n')\n",
    "\n",
    "print(f\"Processed {len(all_blocks)} entries and saved to finetune_data.jsonl.\")"
   ]
  },
  {
   "cell_type": "code",
   "execution_count": 9,
   "metadata": {
    "executionInfo": {
     "elapsed": 122,
     "status": "ok",
     "timestamp": 1745657753606,
     "user": {
      "displayName": "Ranesh RK",
      "userId": "14186686225582722838"
     },
     "user_tz": -330
    },
    "id": "blMeLwJaTUp_"
   },
   "outputs": [],
   "source": [
    "!cp -r ./finetune_data.jsonl ./drive/MyDrive/"
   ]
  },
  {
   "cell_type": "code",
   "execution_count": null,
   "metadata": {
    "id": "Bcq66TBpT241"
   },
   "outputs": [],
   "source": []
  }
 ],
 "metadata": {
  "accelerator": "TPU",
  "colab": {
   "authorship_tag": "ABX9TyOZuqylmjKdrslkRMjCEJDG",
   "collapsed_sections": [
    "JUlJDJadTgZG",
    "BzJ5Z5K7Th3d",
    "RI898y7dTq3O",
    "BjHp9Sd7Tt4S"
   ],
   "gpuType": "V28",
   "mount_file_id": "1uKcKMxWeFCVYr0B7ylsjPx6kRCN9c_tk",
   "provenance": []
  },
  "kernelspec": {
   "display_name": "Python 3",
   "name": "python3"
  },
  "language_info": {
   "name": "python"
  }
 },
 "nbformat": 4,
 "nbformat_minor": 0
}
